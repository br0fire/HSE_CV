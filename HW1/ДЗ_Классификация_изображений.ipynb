{
 "cells": [
  {
   "cell_type": "markdown",
   "metadata": {
    "id": "aTEol2rYXWSa"
   },
   "source": [
    "# Домашнее задание \"Бинарная классификация изображений и решение проблемы дисбаланса классов\""
   ]
  },
  {
   "cell_type": "markdown",
   "metadata": {
    "id": "fHVRXIeVXZJX"
   },
   "source": [
    "## Введение\n",
    "В этом домашнем задании вы будете работать с задачей бинарной классификации изображений. Мы будем использовать датасет \"Cats vs Dogs\", чтобы создать модель, способную различать изображения кошек и собак. Тренировочный набор данных содержит 10 000 изображений кошек и 10 000 изображений собак. В тестовом наборе содержится по 2 500 картинок каждого класса.\n",
    "\n",
    "Цель домашнего задания — закрепить знания о том, как загружать и предобрабатывать данные, определять и обучать нейронные сети, оценивать их эффективность и визуализировать результаты."
   ]
  },
  {
   "cell_type": "markdown",
   "metadata": {
    "id": "NDS3QWETXgC1"
   },
   "source": [
    "## Импорт необходимых библиотек\n",
    "Для решения поставленной задачи вам понадобятся библиотеки для работы с числовыми данными, обучения нейронных сетей и отрисовки графиков. В этой части кода импортируйте необходимые библиотеки, установите seed для воспроизводимости результатов и определите устройство для работы — cpu или cuda."
   ]
  },
  {
   "cell_type": "code",
   "execution_count": null,
   "metadata": {
    "id": "0KT2DKaQ5d6m"
   },
   "outputs": [],
   "source": [
    "# YOUR CODE HERE"
   ]
  },
  {
   "cell_type": "markdown",
   "metadata": {
    "id": "0iCS0fMiYE7h"
   },
   "source": [
    "## Задание №1: Загрузка и предобработка данных\n",
    "Теперь вам необходимо выполнить загрузку и предобработку данных. В качестве бейзлайна можете использовать следующие аугментации (обязательно поэкспериментируйте с другими!):\n",
    "- изменение размера изображения до 224х224;\n",
    "- случайное горизонтальное отражение;\n",
    "- случайное изменение яркости, контраста, насыщенности и оттенка;\n",
    "- преобразование в тензор.\n",
    "\n",
    "Для тестового набора данных используйте только изменение размера до 224х224 и преобразование в тензор."
   ]
  },
  {
   "cell_type": "code",
   "execution_count": null,
   "metadata": {
    "id": "ZcO_MoLhYJbL"
   },
   "outputs": [],
   "source": [
    "# Преобразования для обучающего набора данных\n",
    "train_transform = ... # YOUR CODE HERE\n",
    "\n",
    "# Преобразования для тестового набора данных\n",
    "test_transform = ... # YOUR CODE HERE"
   ]
  },
  {
   "cell_type": "markdown",
   "metadata": {
    "id": "0RbkmDTCjyWV"
   },
   "source": [
    "Датасет для скачивания вы можете найти по [ссылке](https://www.kaggle.com/datasets/salader/dogs-vs-cats?select=test). После скачивания откройте Google Drive (Google Диск) и загрузите архив в удобную для вас директорию."
   ]
  },
  {
   "cell_type": "code",
   "execution_count": null,
   "metadata": {
    "id": "F0xqSaptkxoj"
   },
   "outputs": [],
   "source": [
    "# Подключение Google Диска\n",
    "# from google.colab import drive\n",
    "# drive.mount('/content/drive')"
   ]
  },
  {
   "cell_type": "code",
   "execution_count": 3,
   "metadata": {
    "id": "12B0vDhOlJwj"
   },
   "outputs": [],
   "source": [
    "# Разархивирование скачанного архива (при необходимости замените пути)\n",
    "!unzip -q dogs-vs-cats.zip \"train/*\" \"test/*\" -d dogs_vs_cats"
   ]
  },
  {
   "cell_type": "markdown",
   "metadata": {
    "id": "eNn3OV1K5d6n"
   },
   "source": [
    "Убедитесь, что в разделе `Файлы` у вас появилась папка следующего вида:\n",
    "```\n",
    "dogs_vs_cats/\n",
    "├── train/\n",
    "│   ├── cats/\n",
    "│   └── dogs/\n",
    "└── test/\n",
    "    ├── cats/\n",
    "    └── dogs/\n",
    "```\n",
    "После этого можно перейти к формированию датасета. При работе с данными такой структуры применяется функция `ImageFolder` из `torchvision.datasets`. Примените заданные трансформы. При необходимости измените пути к данным."
   ]
  },
  {
   "cell_type": "code",
   "execution_count": null,
   "metadata": {
    "id": "Jn8G_vCC5d6n"
   },
   "outputs": [],
   "source": [
    "# Загрузка обучающего набора данных\n",
    "train_data = ... # YOUR CODE HERE\n",
    "test_data = ... # YOUR CODE HERE"
   ]
  },
  {
   "cell_type": "markdown",
   "metadata": {
    "id": "PbFP6IeZN40G"
   },
   "source": [
    "## Создание несбалансированной выборки"
   ]
  },
  {
   "cell_type": "markdown",
   "metadata": {
    "id": "8z0WYT8pN40G"
   },
   "source": [
    "Для усложнения задачи создадим несбалансированную версию датасета. В качестве редуцируемого класса выберем \"cats\"."
   ]
  },
  {
   "cell_type": "code",
   "execution_count": null,
   "metadata": {
    "id": "3HlyzM2AN40G"
   },
   "outputs": [],
   "source": [
    "import os\n",
    "import random\n",
    "from torchvision import datasets\n",
    "from torch.utils.data import Subset\n",
    "\n",
    "def create_imbalanced_dataset(dataset, percentage=0.1):\n",
    "    # Разделим индексы по классам\n",
    "    cats_indices = [i for i, (_, label) in enumerate(dataset) if dataset.classes[label] == 'cats']\n",
    "    dogs_indices = [i for i, (_, label) in enumerate(dataset) if dataset.classes[label] == 'dogs']\n",
    "    # Выберем 10% от класса 'cats'\n",
    "    selected_cats_indices = random.sample(cats_indices, int(len(cats_indices) * percentage))\n",
    "    final_indices = selected_cats_indices + dogs_indices\n",
    "\n",
    "    return Subset(dataset, final_indices)"
   ]
  },
  {
   "cell_type": "code",
   "execution_count": null,
   "metadata": {
    "id": "pN2OVHR7N40H"
   },
   "outputs": [],
   "source": [
    "# Создание несбалансированного датасета (10% класса 'cats')\n",
    "imbalanced_train_data = create_imbalanced_dataset(train_data, percentage=0.1)"
   ]
  },
  {
   "cell_type": "markdown",
   "metadata": {
    "id": "6IvM0_Hf5d6o"
   },
   "source": [
    "Теперь создайте загрузчики данных (DataLoader) для тренировочного и тестового наборов данных.  \n",
    "Не забудьте про перемешивание обучающего набора данных перед каждой эпохой. Также задайте параметры *worker_init_fn* и *generator* для воспроизводимости."
   ]
  },
  {
   "cell_type": "code",
   "execution_count": null,
   "metadata": {
    "id": "ZjGiauum5d6o"
   },
   "outputs": [],
   "source": [
    "imbalanced_train_loader = ... # YOUR CODE HERE\n",
    "test_loader = ... # YOUR CODE HERE"
   ]
  },
  {
   "cell_type": "markdown",
   "metadata": {
    "id": "BsKbXzJkrXF-"
   },
   "source": [
    "## Задание №2: Обучение модели на несбалансированных данных\n",
    "Выберите модель и обучите ее на несбалансированных данных. Вы можете взять функцию для обучения из семинара, а лучше напишите свою. Не забывайте сохранять веса обученных моделей.\n",
    "\n",
    "После обучения модели посмотрите отчет о классификации и матрицу ошибок, используя `classification_report` и `confusion_matrix` из `sklearn.metrics`. Что можно сказать о полученных метриках?"
   ]
  },
  {
   "cell_type": "code",
   "execution_count": null,
   "metadata": {
    "id": "eqxancX088Ie"
   },
   "outputs": [],
   "source": [
    "# YOUR CODE HERE"
   ]
  },
  {
   "cell_type": "markdown",
   "metadata": {
    "id": "_L9CuIw9N40I"
   },
   "source": [
    "## Решение проблемы дисбаланса классов\n",
    "Чтобы модель могла лучше предсказывать малопредставленные классы, необходимо использовать специальные методы, для адаптации процесса обучения. Рассмотрим такие подходы.\n"
   ]
  },
  {
   "cell_type": "markdown",
   "metadata": {
    "id": "3SWX6uZfNKX5"
   },
   "source": [
    "## Задание №3: Resampling\n",
    "Resampling включает в себя ве техники — **under**sampling и **over**sampling.\n",
    "\n",
    "**Undersampling** — это метод, направленный на борьбу с дисбалансом классов, при котором количество объектов в более часто встречающихся классах уменьшается, чтобы выровнять количество объектов в каждом классе.\n",
    "Этот подход эффективен, когда объем данных велик, и удаление части данных не приведет к значительной потере информации. Его основное преимущество — это сокращение времени и ресурсов, необходимых для обучения модели. Однако минус заключается в том, что важная информация может быть потеряна, если вместе с избыточными данными удаляются редкие события или аномалии.\n",
    "\n",
    "**Oversampling**, наоборот, увеличивает количество примеров в менее представленном классе за счет дублирования существующих примеров или генерации новых синтетических данных.\n",
    "Этот метод сохраняет всю информацию исходного набора данных, увеличивая вероятность того, что модель научится распознавать менее частые классы.\n",
    "\n",
    "![resampling](https://blog.strands.com/hs-fs/hubfs/Screenshot%202019-07-18%20at%2014.15.15.png?width=1800&name=Screenshot%202019-07-18%20at%2014.15.15.png)\n",
    "\n",
    "Реализуйте оба метода, используя `WeightedRandomSampler` из `torch.utils.data`. Вычислите веса для классов на основе обратной частоты их появления. Передайте список весов для каждого элемента в наборе данных в качестве аргумента `WeightedRandomSampler`. Полученный семплер используйте при создании DataLoader."
   ]
  },
  {
   "cell_type": "markdown",
   "metadata": {
    "id": "kVHSRJpBN40I"
   },
   "source": [
    "### Undersampling"
   ]
  },
  {
   "cell_type": "code",
   "execution_count": null,
   "metadata": {
    "id": "MOokI4WlN40J"
   },
   "outputs": [],
   "source": [
    "# YOUR CODE HERE"
   ]
  },
  {
   "cell_type": "markdown",
   "metadata": {
    "id": "hjnXKhkIN40J"
   },
   "source": [
    "### Oversampling"
   ]
  },
  {
   "cell_type": "code",
   "execution_count": null,
   "metadata": {
    "id": "Xg-6kJZjN40J"
   },
   "outputs": [],
   "source": [
    "# YOUR CODE HERE"
   ]
  },
  {
   "cell_type": "markdown",
   "metadata": {
    "id": "SjZvQ5v0N40J"
   },
   "source": [
    "Сравните метрики с теми, что были получены при первоначальнои обучении. Удалось ли повысить качество модели?"
   ]
  },
  {
   "cell_type": "code",
   "execution_count": null,
   "metadata": {
    "id": "oBCS7TcVN40K"
   },
   "outputs": [],
   "source": [
    "# YOUR CODE HERE"
   ]
  },
  {
   "cell_type": "markdown",
   "metadata": {
    "id": "fKR1dS8x5d6p"
   },
   "source": [
    "## Задание №4: Взвешивание классов\n",
    "Другой подход, используемый при дисбалансе — взвешивание классов. Этот метод позволяет уменьшить предвзятость модели к более представленным классам, назначая больший вес ошибкам на менее представленных классах. Веса классов обычно вычисляются на основе обратной зависимости от частоты классов в данных. Полученные веса используются в качестве аргмента функции потерь.\n",
    "\n",
    "Взвесьте классы согласно этой формуле:\n",
    "$$ w_i = \\frac{1}{n_i} $$\n",
    "где:  \n",
    "$w_i$ — вес для $i$-го класса;  \n",
    "$n_i$ — число объектов $i$-го класса.\n",
    "\n",
    "Полученые веса передайте в качестве аргумента функции потерь и запустите обучение."
   ]
  },
  {
   "cell_type": "code",
   "execution_count": null,
   "metadata": {
    "id": "Yk9ls0mg5d6p"
   },
   "outputs": [],
   "source": [
    "# YOUR CODE HERE"
   ]
  },
  {
   "cell_type": "markdown",
   "metadata": {
    "id": "A9WX9MsW5d6p"
   },
   "source": [
    "Снова проверьте метрики на тестовом наборе данных."
   ]
  },
  {
   "cell_type": "code",
   "execution_count": null,
   "metadata": {
    "id": "VisTO-sg5d6p"
   },
   "outputs": [],
   "source": [
    "# YOUR CODE HERE"
   ]
  },
  {
   "cell_type": "markdown",
   "metadata": {
    "id": "mLrXWnsp5d6q"
   },
   "source": [
    "## Задание №5: Focal Loss\n",
    "Focal Loss — это функция потерь, используемая в задачах классификации для решения проблемы несбалансированных классов. Focal Loss модифицирует стандартную кросс-энтропийную потерю так, чтобы уменьшить влияние легко классифицируемых объектов на обучение модели и увеличить влияние \"сложных\", мало представленных объектов.\n",
    "$$ FL(p_t) = -\\sum_{c=1}^C \\alpha_c (1 - p_{t,c})^\\gamma \\log(p_{t,c}) $$\n",
    "где:  \n",
    "$p_t$ — вероятность принадлежности к целевому классу;  \n",
    "$\\alpha_c$ — весовой коэффициент для класса $c$;  \n",
    "$\\gamma$ — параметр, регулирующий степень уменьшения веса легко классифицируемых объектов.\n",
    "\n",
    "Случай $\\gamma=0$ соотвествует кросс-энтропийной функции потерь. Значение параметра $\\gamma>0$ уменьшает относительные потери для хорошо классифицированных объектов (верно предсказанных с высокой вероятностью), уделяя больше внимания сложным, неправильно классифицированным объектам.\n",
    "\n",
    "![focal_loss](https://i2.wp.com/miro.medium.com/1*zvntw5mnlWLR7zUMKCS_AA.png)\n",
    "\n",
    "Реализуйте функцию Focal Loss и задайте ее в качестве функции потерь при обучении модели."
   ]
  },
  {
   "cell_type": "code",
   "execution_count": null,
   "metadata": {
    "id": "PAjlq4kI5d6q"
   },
   "outputs": [],
   "source": [
    "# YOUR CODE HERE"
   ]
  },
  {
   "cell_type": "markdown",
   "metadata": {
    "id": "xUzuJ3ooN40M"
   },
   "source": [
    "Посчитайте метрики на тестовом наборе данных. Какой из подходов дал наилучший результат?"
   ]
  },
  {
   "cell_type": "code",
   "execution_count": null,
   "metadata": {
    "id": "wZYbKopkN40M"
   },
   "outputs": [],
   "source": [
    "# YOUR CODE HERE"
   ]
  },
  {
   "cell_type": "markdown",
   "metadata": {
    "id": "nvBhnnNKN40M"
   },
   "source": [
    "## Задание №6: Выбор лучшей модели и получение предсказаний\n",
    "Выберите лучшую модель и сделайте предсказания на тестовом наборе данных. Визуализируйте полученные результаты."
   ]
  },
  {
   "cell_type": "code",
   "execution_count": null,
   "metadata": {
    "id": "UHsNtk36N40M"
   },
   "outputs": [],
   "source": [
    "# YOUR CODE HERE"
   ]
  },
  {
   "cell_type": "markdown",
   "metadata": {
    "id": "qXb2tgV7zKob"
   },
   "source": [
    "## Заключение\n",
    "В этом домашнем задании вы закрепили знания по подготвке данных и обучению нейронных сетей, а также научились решать проблему несбалансированного датасета.\n",
    "Полученные знания и навыки позволят вам успешно решать задачи классификации изображений."
   ]
  }
 ],
 "metadata": {
  "colab": {
   "provenance": [],
   "toc_visible": true
  },
  "kernelspec": {
   "display_name": "Python 3 (ipykernel)",
   "language": "python",
   "name": "python3"
  },
  "language_info": {
   "codemirror_mode": {
    "name": "ipython",
    "version": 3
   },
   "file_extension": ".py",
   "mimetype": "text/x-python",
   "name": "python",
   "nbconvert_exporter": "python",
   "pygments_lexer": "ipython3",
   "version": "3.10.15"
  }
 },
 "nbformat": 4,
 "nbformat_minor": 4
}
