{
 "cells": [
  {
   "cell_type": "markdown",
   "metadata": {
    "id": "xV8Dovy4jHj4"
   },
   "source": [
    "# Одностадийная детекция. Домашняя работа"
   ]
  },
  {
   "cell_type": "markdown",
   "metadata": {
    "id": "IrH0UhmreHtI"
   },
   "source": [
    "В рамках данной домашней работы вы закрепите свои знания о процессе разработки и улучшения модели одностадийной детекции YOLO.\n",
    "\n",
    "А именно:\n",
    "\n",
    "* Вы поработаете с платформой Roboflow.\n",
    "\n",
    "* Проведете предобработку и анализ данных.\n",
    "\n",
    "* Самостоятельно реализуете аугментации Mosaic и Mixup.\n",
    "\n",
    "* Выполните серию экспериментов по обучению модели, включая использование аугментаций, настройку гиперпараметров и добавление новых данных.\n",
    "\n",
    "* Освоите методы визуализации ошибок предсказаний модели и расчета IoU между предсказанными и истинными bounding box.\n",
    "\n",
    "* В качестве финального проекта обучите модель, применяя все изученные техники."
   ]
  },
  {
   "cell_type": "markdown",
   "metadata": {
    "id": "Eh_UR-ZinPsf"
   },
   "source": [
    "## Задание №1. (0.5 балла) Работа с Roboflow"
   ]
  },
  {
   "cell_type": "markdown",
   "metadata": {
    "id": "ae_0yp6hoAIl"
   },
   "source": [
    "Описание:\n",
    "* Зарегистрируйтесь на платформе Roboflow\n",
    "* Скачайте [датасет](https://universe.roboflow.com/alexandre-b2d69/first-ugfem) в формате YOLOv9\n",
    "* Изучите структуру датасета и опишите её в отчёте\n",
    "\n",
    "Цель:\n",
    "* Понять основы работы с Roboflow и структуру данных YOLO"
   ]
  },
  {
   "cell_type": "code",
   "execution_count": null,
   "metadata": {
    "id": "t_ANY7KAqCW4"
   },
   "outputs": [],
   "source": [
    "import os"
   ]
  },
  {
   "cell_type": "code",
   "execution_count": null,
   "metadata": {
    "id": "vu_cVxOYjJla"
   },
   "outputs": [],
   "source": [
    "# Выгрузите датасет в папку datasets\n",
    "\n",
    "%%capture --no-display\n",
    "!curl -L # <YOUR CODE HERE> #\n",
    "!mv datasets/data.yaml ."
   ]
  },
  {
   "cell_type": "code",
   "execution_count": null,
   "metadata": {
    "colab": {
     "base_uri": "https://localhost:8080/"
    },
    "id": "ISKbp30ppR2G",
    "outputId": "40b3c770-d026-4192-f417-fa538cd55892"
   },
   "outputs": [
    {
     "name": "stdout",
     "output_type": "stream",
     "text": [
      "train: ../train/images\n",
      "val: ../valid/images\n",
      "test: ../test/images\n",
      "\n",
      "nc: 1\n",
      "names: ['airplane']\n",
      "\n",
      "roboflow:\n",
      "  workspace: alexandre-b2d69\n",
      "  project: first-ugfem\n",
      "  version: 1\n",
      "  license: CC BY 4.0\n",
      "  url: https://universe.roboflow.com/alexandre-b2d69/first-ugfem/dataset/1"
     ]
    }
   ],
   "source": [
    "# Выведите информацию о датасете\n",
    "\n",
    "!cat # <YOUR CODE HERE> #"
   ]
  },
  {
   "cell_type": "code",
   "execution_count": null,
   "metadata": {
    "id": "-iN6AHscp4mW"
   },
   "outputs": [],
   "source": [
    "# Выведите количество изображений отдельно по каждому сплиту и их суммарное количество\n",
    "\n",
    "# <YOUR CODE HERE> #"
   ]
  },
  {
   "cell_type": "markdown",
   "metadata": {
    "id": "e5g1Dz5pqPIs"
   },
   "source": [
    "## Задание №2. (1 балл) Предварительная обработка данных и визуализация"
   ]
  },
  {
   "cell_type": "markdown",
   "metadata": {
    "id": "2WS6jgWXqXH0"
   },
   "source": [
    "Описание:\n",
    "* Напишите скрипт для визуализации аннотаций на изображениях\n",
    "* Визуализируйте и проанилизируйте несколько изображений с аннотациями\n",
    "* Подсчитайте количество объектов каждого класса и визуализируйте результаты (гистограмма или круговая диаграмма)\n",
    "\n",
    "Цель:\n",
    "* Научиться визуализировать данные и понимать распределение классов."
   ]
  },
  {
   "cell_type": "code",
   "execution_count": null,
   "metadata": {
    "id": "MCVRnBuSrY5e"
   },
   "outputs": [],
   "source": [
    "import matplotlib.pyplot as plt\n",
    "import seaborn as sns\n",
    "import pandas as pd\n",
    "import cv2\n",
    "from PIL import Image\n",
    "import numpy as np"
   ]
  },
  {
   "cell_type": "code",
   "execution_count": null,
   "metadata": {
    "id": "c-vvKbgcrke-"
   },
   "outputs": [],
   "source": [
    "# Функция, возвращающая изображение с отрисованными аннотациями\n",
    "def visualize(image_path, annotation_path):\n",
    "    classNames = ['airplane']\n",
    "\n",
    "    frame = cv2.imread(image_path)[...,::-1].copy() # BGR -> RGB\n",
    "\n",
    "    coordinates = []\n",
    "    with open(annotation_path, \"r\") as lines:\n",
    "        for line in lines:\n",
    "            hT, wT, _ = frame.shape\n",
    "            coordinates = line.rstrip('\\n').split(' ')\n",
    "\n",
    "            x1,y1,w2,h2 = float(coordinates[1]), float(coordinates[2]), float(coordinates[3]), float(coordinates[4])\n",
    "\n",
    "            # Переведите относительные значения координат в абсолютные\n",
    "            w, h =  # <YOUR CODE HERE> #\n",
    "            x, y =  # <YOUR CODE HERE> #\n",
    "\n",
    "            cls = coordinates[0]\n",
    "\n",
    "            # Получаем цвет для класса\n",
    "            cmap = plt.get_cmap('tab20b')\n",
    "            colors = [cmap(i)[:3] for i in np.linspace(0, 1, 20)]\n",
    "            color = colors[int(cls) % len(colors)]\n",
    "            color = [i * 255 for i in color]\n",
    "\n",
    "            # Отрисовываем на изображении ббокс и название класса\n",
    "            cv2.rectangle(frame, (x,y), (x+w, y+h), color, 1)\n",
    "            cv2.rectangle(frame, (x,y-30), (x+len(classNames[int(cls)]*15), y), color,-1)\n",
    "            cv2.putText(frame,str(classNames[int(cls)]), (x+4, y-10), cv2.FONT_HERSHEY_SIMPLEX, 0.6, (255, 255, 255), 2)\n",
    "\n",
    "    return Image.fromarray(frame)\n",
    "\n",
    "# Получите абсолютные пути до тестовых изображений и аннотаций\n",
    "test_images =  # <YOUR CODE HERE> #\n",
    "test_annotations =  # <YOUR CODE HERE> #"
   ]
  },
  {
   "cell_type": "code",
   "execution_count": null,
   "metadata": {
    "id": "t-yELN5asvGG"
   },
   "outputs": [],
   "source": [
    "# Визуализируйте разметку на одном из примеров из тестового датасета\n",
    "\n",
    "idx = 0\n",
    "\n",
    "image = # <YOUR CODE HERE> #\n",
    "image"
   ]
  },
  {
   "cell_type": "code",
   "execution_count": null,
   "metadata": {
    "id": "q2O-izxDqBTU"
   },
   "outputs": [],
   "source": [
    "# Функция для подсчёта количества классов в аннотациях\n",
    "def class_count(annotations_path):\n",
    "    class_names = ['airplane']\n",
    "    cls_count = {x: 0 for x in class_names}\n",
    "    for ann_path in annotations_path:\n",
    "        with open(ann_path, 'r') as file:\n",
    "            for line in file:\n",
    "                cls, _, _, _, _ = # <YOUR CODE HERE> #\n",
    "                cls_count[class_names[int(cls)]] += 1\n",
    "\n",
    "    return cls_count"
   ]
  },
  {
   "cell_type": "code",
   "execution_count": null,
   "metadata": {
    "id": "1rlTpO3arRQQ"
   },
   "outputs": [],
   "source": [
    "# Получите абсолютные пути до тренировочных аннотаций\n",
    "train_annotations = # <YOUR CODE HERE> #\n",
    "\n",
    "# Подсчитайте количество присутствий классов в аннотациях\n",
    "train_cls_count = # <YOUR CODE HERE> #\n",
    "\n",
    "# Выведите барплот количества размеченных ббоксов в трейновой выборке\n",
    "ax = sns.barplot(data=train_cls_count)\n",
    "ax.bar_label(ax.containers[0])\n",
    "ax.set_title('train')\n",
    "plt.show()"
   ]
  },
  {
   "cell_type": "code",
   "execution_count": null,
   "metadata": {
    "id": "IL2ZBvbmrU7B"
   },
   "outputs": [],
   "source": [
    "# Получите абсолютные пути до валидационных аннотаций\n",
    "val_annotations = # <YOUR CODE HERE> #\n",
    "\n",
    "# Подсчитайте количество присутствий классов в аннотациях\n",
    "val_cls_count = # <YOUR CODE HERE> #\n",
    "\n",
    "# Выведите барплот количества размеченных ббоксов в валидационной выборке\n",
    "ax = sns.barplot(data=val_cls_count)\n",
    "ax.bar_label(ax.containers[0])\n",
    "ax.set_title('val')\n",
    "plt.show()"
   ]
  },
  {
   "cell_type": "code",
   "execution_count": null,
   "metadata": {
    "id": "kPb0cSp-rgyO"
   },
   "outputs": [],
   "source": [
    "# Получите абсолютные пути до тестовых аннотаций\n",
    "test_annotations = # <YOUR CODE HERE> #\n",
    "\n",
    "# Подсчитайте количество присутствий классов в аннотациях\n",
    "test_cls_count = # <YOUR CODE HERE> #\n",
    "\n",
    "# Выведите барплот количества размеченных ббоксов в тестовой выборке\n",
    "ax = sns.barplot(data=test_cls_count)\n",
    "ax.bar_label(ax.containers[0])\n",
    "ax.set_title('test')\n",
    "plt.show()"
   ]
  },
  {
   "cell_type": "code",
   "execution_count": null,
   "metadata": {
    "id": "8keKqIwer1dD"
   },
   "outputs": [],
   "source": [
    "# Функция для подсчета количества и среднего относительного размера bounding box в каждом файле аннотаций\n",
    "def count_bboxes_and_relative_size(annotation_files):\n",
    "    bbox_counts = []\n",
    "    relative_sizes = []\n",
    "\n",
    "    for annotation_file in annotation_files:\n",
    "        with open(annotation_file, 'r') as f:\n",
    "            lines = f.readlines()\n",
    "            if not lines:\n",
    "                continue\n",
    "\n",
    "            bboxes = [list(map(float, line.split()[1:])) for line in lines]\n",
    "\n",
    "            bbox_counts.append(len(bboxes))\n",
    "\n",
    "            sizes = # <YOUR CODE HERE> # [width * height for bbox in bboxes]\n",
    "            relative_sizes.append(sum(sizes) / len(bboxes))\n",
    "\n",
    "    return bbox_counts, relative_sizes\n",
    "\n",
    "# Подсчитайте количество и средние относительные размеры bounding box для каждого сплита\n",
    "train_bbox_counts, train_relative_sizes = # <YOUR CODE HERE> #\n",
    "val_bbox_counts, val_relative_sizes = # <YOUR CODE HERE> #\n",
    "test_bbox_counts, test_relative_sizes = # <YOUR CODE HERE> #"
   ]
  },
  {
   "cell_type": "code",
   "execution_count": null,
   "metadata": {
    "id": "55AwXIqpemez"
   },
   "outputs": [],
   "source": [
    "# Создайте DataFrame для визуализации количества bounding box\n",
    "data = {\n",
    "    'Split': ['Train'] * len(train_bbox_counts) + ['Validation'] * len(val_bbox_counts) + ['Test'] * len(test_bbox_counts),\n",
    "    'Bounding Boxes': train_bbox_counts + val_bbox_counts + test_bbox_counts\n",
    "}\n",
    "df = pd.DataFrame(data)\n",
    "\n",
    "# Выведите гистограмму распределения\n",
    "plt.figure(figsize=(12, 6))\n",
    "sns.histplot(data=df, x='Bounding Boxes', hue='Split', multiple='stack', kde=True, cbar=True)\n",
    "\n",
    "plt.xlabel('Среднее количество bounding box на изображение')\n",
    "plt.ylabel('Количество изображений')\n",
    "plt.title('Распределение среднего количества bounding box на изображениях по сплитам (Train, Validation, Test)')\n",
    "plt.show()"
   ]
  },
  {
   "cell_type": "code",
   "execution_count": null,
   "metadata": {
    "id": "sHwJySd8env_"
   },
   "outputs": [],
   "source": [
    "# Создайте DataFrame для визуализации средних относительных размеров bounding_box\n",
    "data = {\n",
    "    'Split': # <YOUR CODE HERE> #\n",
    "    'Relative Bounding Box Size': # <YOUR CODE HERE> #\n",
    "}\n",
    "df = pd.DataFrame(data)\n",
    "\n",
    "# Выведите гистограмму распределения\n",
    "plt.figure(figsize=(12, 6))\n",
    "sns.histplot(data=df, x='Relative Bounding Box Size', hue='Split', multiple='stack', kde=True, cbar=True)\n",
    "\n",
    "plt.xlabel('Средний относительный размер bounding box')\n",
    "plt.ylabel('Количество изображений')\n",
    "plt.title('Распределение среднего относительного размера bounding box на изображениях по сплитам (Train, Validation, Test)')\n",
    "plt.show()"
   ]
  },
  {
   "cell_type": "markdown",
   "metadata": {
    "id": "cyYQ3iOg51ch"
   },
   "source": [
    "## Задание №3. (1 балл) Реализация аугментации Mosaic"
   ]
  },
  {
   "cell_type": "markdown",
   "metadata": {
    "id": "aQ7tFSPe51ch"
   },
   "source": [
    "Описание задания:\n",
    "\n",
    "* Изучите принцип работы аугментации Mosaic.\n",
    "\n",
    "* Реализуйте функцию, которая будет применять Mosaic аугментацию к изображениям.\n",
    "\n",
    "* Примените эту функцию к нескольким изображениям из обучающего набора данных и визуализируйте полученные результаты.\n",
    "\n",
    "Цель задания:\n",
    "\n",
    "* Разобраться в технике аугментации данных и самостоятельно реализовать её для улучшения качества обучения модели."
   ]
  },
  {
   "cell_type": "markdown",
   "metadata": {
    "id": "eUy03YSohIVN"
   },
   "source": [
    "Рассмотрим подробнее дополнительный функционал для корректной работы аугментаций\n",
    "\n",
    "1. preprocess(image_name, image_dir, label_dir)\n",
    "  - Описание:\n",
    "Эта функция формирует пути к изображениям и аннотациям на основе имени файла изображения, директорий для изображений и аннотаций\n",
    "  - Аргументы:\n",
    "      * image_name (str): Имя файла изображения\n",
    "      * image_dir (str): Директория, где хранятся изображения\n",
    "      * label_dir (str): Директория, где хранятся аннотации\n",
    "  - Возвращает:\n",
    "      * image_path (str): Полный путь к изображению\n",
    "      * label_path (str): Полный путь к файлу с аннотациями\n",
    "      * label_name (str): Имя файла аннотаций\n",
    "2. draw_rect(img, bboxes, class_labels)\n",
    "  - Описание:\n",
    "Эта функция рисует bounding box на изображении для визуализации объектов.\n",
    "  - Аргументы:\n",
    "      * img (numpy.ndarray): Изображение.\n",
    "      * bboxes (list): Список bounding box в формате YOLO [center_x, center_y, width, height].\n",
    "      * class_labels (list): Список классов объектов\n",
    "  - Возвращает:\n",
    "      * img (numpy.ndarray): Изображение с нарисованными bounding box\n",
    "3. read_img(image_path, cvt_color=True)\n",
    "  - Описание:\n",
    "Эта функция загружает изображение и, при необходимости, конвертирует его цвета из BGR в RGB\n",
    "  - Аргументы:\n",
    "      * image_path (str): Путь к изображению\n",
    "      * cvt_color (bool): Флаг для конвертации цвета (по умолчанию — True)\n",
    "  - Возвращает:\n",
    "      * img (numpy.ndarray): Изображение\n",
    "4. save_img(image, save_path, jpg_quality=None)\n",
    "  - Описание:\n",
    "Эта функция сохраняет изображение с опциональным указанием качества JPEG\n",
    "  - Аргументы:\n",
    "      * image (numpy.ndarray): Изображение\n",
    "      * save_path (str): Путь для сохранения изображения\n",
    "      * jpg_quality (int, optional): Качество JPEG (по умолчанию — None)\n",
    "  - Возвращает:\n",
    "      * None\n",
    "5. display_img(image_path, label_path)\n",
    "  - Описание:\n",
    "Эта функция загружает изображение и соответствующие аннотации, рисует bounding box и подготавливает изображение для отображения\n",
    "  - Аргументы:\n",
    "      * image_path (str): Путь к изображению\n",
    "      * label_path (str): Путь к файлу с аннотациями\n",
    "  - Возвращает:\n",
    "      * img (numpy.ndarray): Изображение с нарисованными bounding box в формате, готовом для отображения\n",
    "6. read_label(label_path)\n",
    "  - Описание:\n",
    "Эта функция считывает bounding box и метки классов из файла аннотаций в формате YOLO\n",
    "  - Аргументы:\n",
    "      * label_path (str): Путь к файлу с аннотациями\n",
    "  - Возвращает:\n",
    "      * bboxes (list): Список bounding box\n",
    "      * class_labels (list): Список классов объектов\n",
    "7. save_label(bboxes, class_labels, label_path)\n",
    "  - Описание:\n",
    "Эта функция сохраняет bounding box и метки классов в файл в формате YOLO\n",
    "  - Аргументы:\n",
    "      * bboxes (list): Список bounding box\n",
    "      * class_labels (list): Список классов объектов\n",
    "      * label_path (str): Путь для сохранения файла с аннотациями\n",
    "  - Возвращает:\n",
    "      * None\n",
    "\n",
    "Эти функции помогут вам организовать предварительную обработку и сохранение данных для аугментации изображений. Также они обеспечат конвертацию, визуализацию и сохранение изображений и аннотаций, что крайне важно для отладки и анализа результатов"
   ]
  },
  {
   "cell_type": "code",
   "execution_count": null,
   "metadata": {
    "id": "u9GL2ZRm51ch"
   },
   "outputs": [],
   "source": [
    "import albumentations as A\n",
    "import random"
   ]
  },
  {
   "cell_type": "code",
   "execution_count": null,
   "metadata": {
    "id": "OJVkRJ6m51ch"
   },
   "outputs": [],
   "source": [
    "# Дополнительный функционал для корректной работы аугментации\n",
    "\n",
    "def preprocess(image_name, image_dir, label_dir):\n",
    "    image_path = os.path.sep.join([image_dir, image_name])\n",
    "\n",
    "    name = image_name.split('.jpg')[0]\n",
    "    label_name = name + '.txt'\n",
    "    label_path = os.path.sep.join([label_dir, label_name])\n",
    "\n",
    "    return image_path, label_path, label_name\n",
    "\n",
    "def draw_rect(img, bboxes, class_labels):\n",
    "    colors = {0: (255,0,0)}\n",
    "\n",
    "    img = img.copy()\n",
    "    height, width = img.shape[:2]\n",
    "    for bbox, cls in zip(bboxes, class_labels):\n",
    "        center_x, center_y, w, h = bbox[0], bbox[1], bbox[2], bbox[3]\n",
    "        x = int((center_x - w/2) * width)\n",
    "        w = int(w * width)\n",
    "        y = int((center_y - h/2) * height)\n",
    "        h = int(h * height)\n",
    "\n",
    "        color = colors[int(cls)]\n",
    "\n",
    "        img = cv2.rectangle(img, (x, y), (x+w, y+h), color, 1)\n",
    "    return img\n",
    "\n",
    "def read_img(image_path, cvt_color=True):\n",
    "    img = cv2.imread(image_path)\n",
    "    if cvt_color:\n",
    "        img = cv2.cvtColor(img, cv2.COLOR_BGR2RGB)\n",
    "    return img\n",
    "\n",
    "def save_img(image, save_path, jpg_quality=None):\n",
    "    image = cv2.cvtColor(image, cv2.COLOR_RGB2BGR)\n",
    "\n",
    "    if jpg_quality:\n",
    "        cv2.imwrite(save_path, image, [int(cv2.IMWRITE_JPEG_QUALITY), jpg_quality])\n",
    "    else:\n",
    "        cv2.imwrite(save_path, image)\n",
    "\n",
    "def display_img(image_path, label_path):\n",
    "    img = read_img(image_path, cvt_color=False)\n",
    "    bboxes, class_labels = read_label(label_path)\n",
    "    img = draw_rect(img, bboxes, class_labels)\n",
    "\n",
    "    return img[...,::-1]\n",
    "\n",
    "def read_label(label_path):\n",
    "    with open(label_path) as f:\n",
    "        conts = f.readlines()\n",
    "\n",
    "    bboxes = []\n",
    "    class_labels = []\n",
    "    for cont in conts:\n",
    "        cont = cont.strip().split()\n",
    "\n",
    "        center_x, center_y, w, h = float(cont[1]), float(cont[2]), float(cont[3]), float(cont[4])\n",
    "        bboxes.append([center_x, center_y, w, h])\n",
    "        class_labels.append(cont[0])\n",
    "    return (bboxes, class_labels)\n",
    "\n",
    "def save_label(bboxes, class_labels, label_path):\n",
    "    tem_lst = []\n",
    "    for i, bbox in enumerate(bboxes):\n",
    "        tem_lst.append(class_labels[i] + ' ' + str(bbox[0]) + ' ' + str(bbox[1]) + ' ' + str(bbox[2]) + ' ' + str(bbox[3]) + '\\n')\n",
    "\n",
    "    with open(label_path, 'w') as f:\n",
    "        f.writelines(tem_lst)"
   ]
  },
  {
   "cell_type": "code",
   "execution_count": null,
   "metadata": {
    "id": "xdfcu9wK51ch"
   },
   "outputs": [],
   "source": [
    "# Функция для рандомного кропа изображения с учётом ббоксов\n",
    "def random_crop_savebboxes(image_name, image_dir, label_dir, expected_h, expected_w):\n",
    "    image_path, label_path, _ =  preprocess(image_name, image_dir, label_dir)\n",
    "\n",
    "    (bboxes, class_labels) = read_label(label_path)\n",
    "\n",
    "    transform = A.Compose([A.RandomResizedCrop(expected_h, expected_w)],\n",
    "                           bbox_params=A.BboxParams(format='yolo', label_fields=['class_labels'], min_area=1, min_visibility=0.1))\n",
    "\n",
    "    transformed = transform(image=read_img(image_path), bboxes=bboxes, class_labels=class_labels)\n",
    "    transformed_image = transformed['image']\n",
    "    transformed_bboxes = transformed['bboxes']\n",
    "    transformed_class_labels = transformed['class_labels']\n",
    "\n",
    "    return transformed_image, transformed_bboxes, transformed_class_labels\n",
    "\n",
    "# Функция аугментации\n",
    "def mosaic(image_file_list, image_dir, label_dir, output_image_dir, output_label_dir, scale_x, scale_y):\n",
    "    # Создайте новое изображение размером (640,640,3) с dtype=uint8\n",
    "    new_img =  # <YOUR CODE HERE> #\n",
    "\n",
    "    # Находим центральную точку мозаики\n",
    "    div_point_x = int(640 * scale_x)\n",
    "    div_point_y = int(640 * scale_y)\n",
    "\n",
    "    # Итерируемся по нашим изображениям\n",
    "    for i in range(len(image_file_list)):\n",
    "\n",
    "        # Левое верхнее изображение, img_0\n",
    "        if i == 0:\n",
    "\n",
    "            # Ширина и высота левого верхнего изображения\n",
    "            w0 = div_point_x\n",
    "            h0 = div_point_y\n",
    "            img_0, bboxes_0, class_labels_0 = random_crop_savebboxes(image_file_list[0], image_dir, label_dir, h0, w0)\n",
    "\n",
    "            # Левое верхнее изображение\n",
    "            new_img[:div_point_y, :div_point_x, :] = img_0\n",
    "\n",
    "            # Изменяем оригинальные ббоксы\n",
    "            if len(bboxes_0) == 0:  # ббоксы отсутствуют\n",
    "                bboxes_0_new = []\n",
    "            else:\n",
    "                bboxes_0_new = np.zeros((len(bboxes_0), 4))\n",
    "                bboxes_0_new = bboxes_0_new.tolist()\n",
    "\n",
    "            for i, box in enumerate(bboxes_0):\n",
    "                bboxes_0_new[i][0] = box[0] * scale_x # x_center\n",
    "                bboxes_0_new[i][2] = box[2] * scale_x # w\n",
    "\n",
    "                bboxes_0_new[i][1] = box[1] * scale_y # y_center\n",
    "                bboxes_0_new[i][3] = box[3] * scale_y # h\n",
    "\n",
    "        # Верхнее правое изображение, img_1\n",
    "        elif i == 1:\n",
    "\n",
    "            # Ширина и высота правого верхнего изображения\n",
    "            w1 = 640 - div_point_x\n",
    "            h1 = div_point_y\n",
    "            img_1, bboxes_1, class_labels_1 = random_crop_savebboxes(image_file_list[1], image_dir, label_dir, h1, w1)\n",
    "            new_img[:div_point_y, div_point_x:, :] = img_1\n",
    "\n",
    "            # Изменяем оригинальные ббоксы\n",
    "            if len(bboxes_1) == 0: # ббоксы отсутствуют\n",
    "                bboxes_1_new = []\n",
    "            else:\n",
    "                bboxes_1_new = np.zeros((len(bboxes_1), 4))\n",
    "                bboxes_1_new = bboxes_1_new.tolist()\n",
    "\n",
    "            for i, box in enumerate(bboxes_1):\n",
    "                bboxes_1_new[i][0] = box[0] * (1 - scale_x) + scale_x # x_center\n",
    "                bboxes_1_new[i][2] = box[2] * (1 - scale_x) # w\n",
    "\n",
    "                bboxes_1_new[i][1] = box[1] * scale_y # y_center\n",
    "                bboxes_1_new[i][3] = box[3] * scale_y # h\n",
    "\n",
    "        # Нижнеее левое изображение, img_2\n",
    "        elif i == 2:\n",
    "\n",
    "            # Ширина и высота нижнего левого изображения\n",
    "            w2 = div_point_x\n",
    "            h2 = 640 - div_point_y\n",
    "            img_2, bboxes_2, class_labels_2 = random_crop_savebboxes(image_file_list[2], image_dir, label_dir, h2, w2)\n",
    "            new_img[div_point_y:, :div_point_x, :] = img_2\n",
    "\n",
    "            # Изменяем оригинальные ббоксы\n",
    "            if len(bboxes_2) == 0: # ббоксы отсутствуют\n",
    "                bboxes_2_new = []\n",
    "            else:\n",
    "                bboxes_2_new = np.zeros((len(bboxes_2), 4))\n",
    "                bboxes_2_new = bboxes_2_new.tolist()\n",
    "\n",
    "            for i, box in enumerate(bboxes_2):\n",
    "                bboxes_2_new[i][0] =  # <YOUR CODE HERE> # # x_center\n",
    "                bboxes_2_new[i][2] =  # <YOUR CODE HERE> # # w\n",
    "\n",
    "                bboxes_2_new[i][1] =  # <YOUR CODE HERE> # # y_center\n",
    "                bboxes_2_new[i][3] =  # <YOUR CODE HERE> # # h\n",
    "\n",
    "        # Нижнее правое изображение, img_3\n",
    "        else:\n",
    "\n",
    "            # Ширина и высота правого нижнего изображения\n",
    "            w3 = 640 - div_point_x\n",
    "            h3 = 640 - div_point_y\n",
    "            img_3, bboxes_3, class_labels_3 = random_crop_savebboxes(image_file_list[3], image_dir, label_dir, h3, w3)\n",
    "            new_img[div_point_y:, div_point_x:, :] = img_3\n",
    "\n",
    "            # Изменяем оригинальные ббоксы\n",
    "            if len(bboxes_3) == 0:  # ббоксы отсутствуют\n",
    "                bboxes_3_new = []\n",
    "            else:\n",
    "                bboxes_3_new = np.zeros((len(bboxes_3), 4))\n",
    "                bboxes_3_new = bboxes_3_new.tolist()\n",
    "\n",
    "            for i, box in enumerate(bboxes_3):\n",
    "                bboxes_3_new[i][0] =  # <YOUR CODE HERE> # # x_center\n",
    "                bboxes_3_new[i][2] =  # <YOUR CODE HERE> # # w\n",
    "\n",
    "                bboxes_3_new[i][1] =  # <YOUR CODE HERE> # # y_center\n",
    "                bboxes_3_new[i][3] =  # <YOUR CODE HERE> # # h\n",
    "\n",
    "    # Получите все классы аугментированного изображения\n",
    "    new_class_labels =  # <YOUR CODE HERE> #\n",
    "    # Получите все ббоксы аугментированного изображения\n",
    "    new_bboxes =  # <YOUR CODE HERE> #\n",
    "\n",
    "    # пути для сохранения аугментированного изображения и аннотаций\n",
    "    image_store_path = os.path.sep.join([output_image_dir, 'mosaic.jpg'])\n",
    "    label_store_path = os.path.sep.join([output_label_dir, 'mosaic.txt'])\n",
    "\n",
    "    # сохраняем аугментированные изображения и аннотации\n",
    "    save_img(new_img, image_store_path)\n",
    "    save_label(new_bboxes, new_class_labels, label_store_path)\n",
    "\n",
    "    # отрисовываем аннотации на аугментированном изображении\n",
    "    res = display_img(image_store_path, label_store_path)\n",
    "\n",
    "    return res"
   ]
  },
  {
   "cell_type": "code",
   "execution_count": null,
   "metadata": {
    "id": "HBvtrfKH51ch"
   },
   "outputs": [],
   "source": [
    "# Создайте папки для хранения аугментированных изображений и соответствующих аннотаций\n",
    "\n",
    "output_image_dir = 'augmentation/mosaic_images'\n",
    "if not os.path.exists(output_image_dir):\n",
    "    os.makedirs(output_image_dir)\n",
    "\n",
    "output_label_dir = 'augmentation/mosaic_labels'\n",
    "if not os.path.exists(output_label_dir):\n",
    "    os.makedirs(output_label_dir)\n",
    "\n",
    "# Пути до оригинальных изображений и аннотаций\n",
    "image_dir = 'datasets/test/images/'\n",
    "label_dir = 'datasets/test/labels/'"
   ]
  },
  {
   "cell_type": "code",
   "execution_count": null,
   "metadata": {
    "id": "-jezbmlJ51ch"
   },
   "outputs": [],
   "source": [
    "# Рандомно выберите 4 изображения\n",
    "image_file_list =  # <YOUR CODE HERE> #\n",
    "\n",
    "# Задаём ширину и высоту левой верхней картинки\n",
    "scale_x = 0.6\n",
    "scale_y = 0.4\n",
    "\n",
    "# Аугментируйте\n",
    "res =  # <YOUR CODE HERE> #\n",
    "\n",
    "plt.figure(figsize=(10,10))\n",
    "plt.imshow(res)"
   ]
  },
  {
   "cell_type": "markdown",
   "metadata": {
    "id": "EiZIy8q551ch"
   },
   "source": [
    "## Задание №4. (1 балл) Реализация аугментации Mixup"
   ]
  },
  {
   "cell_type": "markdown",
   "metadata": {
    "id": "cjdndkLy51ci"
   },
   "source": [
    "Описание:\n",
    "* Изучите технику аугментации Mixup\n",
    "* Реализуйте функцию для применения Mixup аугментации на изображениях\n",
    "* Примените эту функцию к нескольким изображениям из тренировочного набора и визуализируйте результаты\n",
    "\n",
    "Цель:\n",
    "* Глубже понять и реализовать другую популярную технику аугментации данных"
   ]
  },
  {
   "cell_type": "code",
   "execution_count": null,
   "metadata": {
    "id": "uievCI5c51ci"
   },
   "outputs": [],
   "source": [
    "# Функция аугментации\n",
    "def mixup_augmentation(image_path1, annotation_path1, image_path2, annotation_path2, mixup_alpha=0.7):\n",
    "    # Загрузите изображения и аннотации\n",
    "    image1 = read_img(image_path1)\n",
    "    image2 = read_img(image_path2)\n",
    "    bboxes1, class_labels1 = read_label(annotation_path1)\n",
    "    bboxes2, class_labels2 = read_label(annotation_path2)\n",
    "\n",
    "    # Вычислите λ из бета-распределения (np.random.beta)\n",
    "    lambda_value =  # <YOUR CODE HERE> #\n",
    "\n",
    "    # Создайте миксап изображение (dtype=np.uint8)\n",
    "    mixup_image =  # <YOUR CODE HERE> #\n",
    "\n",
    "    # Комбинирование аннотаций\n",
    "    mixup_bboxes = bboxes1 + bboxes2\n",
    "    mixup_labels = class_labels1 + class_labels2\n",
    "\n",
    "    return mixup_image, mixup_bboxes, mixup_labels"
   ]
  },
  {
   "cell_type": "code",
   "execution_count": null,
   "metadata": {
    "id": "4CUrmTRW51ci"
   },
   "outputs": [],
   "source": [
    "# Пример использования\n",
    "\n",
    "image_path1 = test_images[0]\n",
    "annotation_path1 = test_annotations[0]\n",
    "image_path2 = test_images[1]\n",
    "annotation_path2 = test_annotations[1]\n",
    "\n",
    "# Аугментируйте\n",
    "mixup_image, mixup_bboxes, mixup_labels =  # <YOUR CODE HERE> #\n",
    "\n",
    "# Отрисуйте аннотации\n",
    "res = draw_rect(mixup_image, mixup_bboxes, mixup_labels)\n",
    "\n",
    "plt.figure(figsize=(10,10))\n",
    "plt.imshow(res)"
   ]
  },
  {
   "cell_type": "markdown",
   "metadata": {
    "id": "ph6MeXec51ci"
   },
   "source": [
    "## Задание №5. (0 баллов)Установка и подготовка YOLOv9"
   ]
  },
  {
   "cell_type": "markdown",
   "metadata": {
    "id": "9zKH9NVx51ci"
   },
   "source": [
    "Описание:\n",
    "* Установите библиотеку ultralytics для работы с YOLOv9\n",
    "* Настройте необходимые зависимости и убедитесь, что всё корректно установлено\n",
    "\n",
    "Цель:\n",
    "* Ознакомиться с библиотекой ultralytics и подготовиться к обучению модели"
   ]
  },
  {
   "cell_type": "code",
   "execution_count": null,
   "metadata": {
    "id": "YRIOxQPm51ci"
   },
   "outputs": [],
   "source": [
    "# Установите необходимые зависимости\n",
    "\n",
    "%%capture --no-display\n",
    "!pip install ultralytics\n",
    "!pip install dill"
   ]
  },
  {
   "cell_type": "code",
   "execution_count": null,
   "metadata": {
    "id": "_SWIIXxa51ci"
   },
   "outputs": [],
   "source": [
    "# Импортируйте библиотеку YOLO\n",
    "\n",
    "from ultralytics import YOLO"
   ]
  },
  {
   "cell_type": "code",
   "execution_count": null,
   "metadata": {
    "id": "B0AOdieD51ci"
   },
   "outputs": [],
   "source": [
    "# Попробуйте инициализировать модель\n",
    "\n",
    "model =  # <YOUR CODE HERE> #"
   ]
  },
  {
   "cell_type": "markdown",
   "metadata": {
    "id": "pHfG-2to51ci"
   },
   "source": [
    "## Задание №6. (1 балл) Базовое обучение модели YOLOv9\n",
    "\n",
    "\n",
    "\n"
   ]
  },
  {
   "cell_type": "markdown",
   "metadata": {
    "id": "-1KVaVIO51ci"
   },
   "source": [
    "Описание:\n",
    "* Используя загруженный датасет и модель YOLOv9, обучите модель на 10 эпохах без аугментаций\n",
    "* Выведите метрики на тестовом наборе данных\n",
    "* Визуализируйте результаты обучения (например, графики изменения loss и mAP)\n",
    "\n",
    "Цель:\n",
    "* Научиться базовому обучению модели YOLOv9 и анализу результатов"
   ]
  },
  {
   "cell_type": "code",
   "execution_count": null,
   "metadata": {
    "id": "_kbmKhcr51ci"
   },
   "outputs": [],
   "source": [
    "augm = {\n",
    "    # Отключите аугментации\n",
    "\n",
    "    \"close_mosaic\":  # <YOUR CODE HERE> #\n",
    "    \"hsv_h\":  # <YOUR CODE HERE> #\n",
    "    \"hsv_s\":  # <YOUR CODE HERE> #\n",
    "    \"hsv_v\":  # <YOUR CODE HERE> #\n",
    "    \"degrees\":  # <YOUR CODE HERE> #\n",
    "    \"fliplr\":  # <YOUR CODE HERE> #\n",
    "    \"mosaic\":  # <YOUR CODE HERE> #\n",
    "    \"mixup\":  # <YOUR CODE HERE> #\n",
    "}"
   ]
  },
  {
   "cell_type": "code",
   "execution_count": null,
   "metadata": {
    "id": "zDZSly_M51ci"
   },
   "outputs": [],
   "source": [
    "# Инициализируйте модель\n",
    "\n",
    "model =  # <YOUR CODE HERE> #"
   ]
  },
  {
   "cell_type": "code",
   "execution_count": null,
   "metadata": {
    "id": "IWhadJ5g51cj"
   },
   "outputs": [],
   "source": [
    "# Обучите модель. Не забудьте передать augm\n",
    "\n",
    "results =  # <YOUR CODE HERE> #"
   ]
  },
  {
   "cell_type": "code",
   "execution_count": null,
   "metadata": {
    "id": "6NhJu85a51cj"
   },
   "outputs": [],
   "source": [
    "# Инициализируйте модель лучшим чекпоинтом (все логи и промежуточные итоги сохраняются в папке runs)\n",
    "\n",
    "model =  # <YOUR CODE HERE> #"
   ]
  },
  {
   "cell_type": "code",
   "execution_count": null,
   "metadata": {
    "id": "SbBq0tTb51cj"
   },
   "outputs": [],
   "source": [
    "# Вычислите метрики на тестовом наборе данных\n",
    "\n",
    "metrics =  # <YOUR CODE HERE> #"
   ]
  },
  {
   "cell_type": "code",
   "execution_count": null,
   "metadata": {
    "id": "sH-FevrO51cj"
   },
   "outputs": [],
   "source": [
    "# Визуализируйте графики обучения (можно найти в папке runs)\n",
    "\n",
    " # <YOUR CODE HERE> #"
   ]
  },
  {
   "cell_type": "markdown",
   "metadata": {
    "id": "B4U3tv9KqyLg"
   },
   "source": [
    "## Задание №7. (1 балл) Функция для расчёта IoU и отрисовки ошибок предсказаний модели YOLOv9"
   ]
  },
  {
   "cell_type": "markdown",
   "metadata": {
    "id": "4QAmiCtIq82k"
   },
   "source": [
    "Описание:\n",
    "* Реализуйте функцию, которая отображает на изображении предсказанные bounding box модели YOLOv9 и сравнивает их с аннотациями. Предсказанные bounding box отображаются одним цветом, а реальные — другим\n",
    "* Воспользуйтесь функцией box_iou из библиотеки torchvision.ops для вычисления IoU между предсказанными и реальными bounding box\n",
    "\n",
    "Цель:\n",
    "* Научиться визуализировать и анализировать ошибки предсказаний модели"
   ]
  },
  {
   "cell_type": "code",
   "execution_count": null,
   "metadata": {
    "id": "kjbni_u3q-lK"
   },
   "outputs": [],
   "source": [
    "import torch\n",
    "from torchvision.ops import box_iou"
   ]
  },
  {
   "cell_type": "code",
   "execution_count": null,
   "metadata": {
    "id": "OeAeHAX6q_om"
   },
   "outputs": [],
   "source": [
    "# Вспомогательная функция для преобразования YOLO bbox к формату [x1, y1, x2, y2]\n",
    "def yolo_to_xyxy(bbox, width, height):\n",
    "    center_x, center_y, w, h = bbox\n",
    "    x1 = # <YOUR CODE HERE> #\n",
    "    y1 = # <YOUR CODE HERE> #\n",
    "    x2 = # <YOUR CODE HERE> #\n",
    "    y2 = # <YOUR CODE HERE> #\n",
    "    return [x1, y1, x2, y2]\n",
    "\n",
    "# Вспомогательная функция для предсказания модели YOLOv9\n",
    "def get_predictions(model, image, conf_thr=0.25):\n",
    "    results = model(image)\n",
    "    predictions = []\n",
    "\n",
    "    for idx, pred in enumerate(results[0].boxes.xyxy):\n",
    "        conf = # <YOUR CODE HERE> #\n",
    "        if conf > conf_thr:\n",
    "            x1, y1, x2, y2 = pred.cpu()\n",
    "            cls = # <YOUR CODE HERE> #\n",
    "            predictions.append([x1, y1, x2, y2, int(cls)])\n",
    "\n",
    "    return predictions\n",
    "\n",
    "# Основная функция для отрисовки ошибок\n",
    "def draw_errors(predictions, gt_bboxes, img, width, height):\n",
    "    pred_color = (0, 255, 0)  # Зеленый для предсказанных BB\n",
    "    gt_color = (0, 0, 255)    # Красный для реальных BB (инвертируется при BGR -> RGB)\n",
    "\n",
    "    for bbox in predictions:\n",
    "        x1, y1, x2, y2, cls = bbox\n",
    "        cv2.rectangle(img, (int(x1), int(y1)), (int(x2), int(y2)), pred_color, 2)\n",
    "\n",
    "    for gt_bbox in gt_bboxes:\n",
    "        x1, y1, x2, y2 = yolo_to_xyxy(gt_bbox, width, height)\n",
    "        cv2.rectangle(img, (int(x1), int(y1)), (int(x2), int(y2)), gt_color, 2)\n",
    "\n",
    "    return img\n",
    "\n",
    "# Вспомогательная функция для вычисления IoU и отрисовки ошибок\n",
    "def visualize_predictions(model, image_path, label_path, conf_thr=0.25):\n",
    "    img = read_img(image_path, cvt_color=False)\n",
    "    gt_bboxes, _ = read_label(label_path)\n",
    "    height, width = img.shape[:2]\n",
    "\n",
    "    # Преобразуйте реальные bbox к формату xyxy\n",
    "    gt_bboxes_xyxy = # <YOUR CODE HERE> #\n",
    "\n",
    "    # Получите предсказаний модели\n",
    "    predictions = # <YOUR CODE HERE> #\n",
    "\n",
    "    if len(predictions) > 0 and len(gt_bboxes_xyxy) > 0:\n",
    "        pred_boxes_tensor = torch.tensor([pred[:4] for pred in predictions])\n",
    "        gt_boxes_tensor = torch.tensor(gt_bboxes_xyxy)\n",
    "\n",
    "        # Вычислите IoU\n",
    "        iou = box_iou(pred_boxes_tensor, gt_boxes_tensor) # [MxN] pairwise iou matrix\n",
    "        mean_iou = torch.max # <YOUR CODE HERE> #\n",
    "\n",
    "        print(f'\\nMean IoU = {mean_iou}')\n",
    "\n",
    "    # Отрисуйте ошибки\n",
    "    img_with_errors = # <YOUR CODE HERE> #\n",
    "\n",
    "    return img_with_errors"
   ]
  },
  {
   "cell_type": "code",
   "execution_count": null,
   "metadata": {
    "id": "VEwPtMhErb1i"
   },
   "outputs": [],
   "source": [
    "# Задайте путь к изображению и аннотациям\n",
    "image_path = test_images[0]\n",
    "label_path = test_annotations[0]\n",
    "\n",
    "# Загрузите предобученные веса в модель\n",
    "model = # <YOUR CODE HERE> #\n",
    "\n",
    "# Получите изображение с визуализированными предсказаниями и реальной разметкой\n",
    "img_with_errors = # <YOUR CODE HERE> #\n",
    "\n",
    "# Выведите полученное изображение\n",
    "img_rgb = cv2.cvtColor(img_with_errors, cv2.COLOR_BGR2RGB)\n",
    "Image.fromarray(img_rgb)"
   ]
  },
  {
   "cell_type": "markdown",
   "metadata": {
    "id": "vHGOtFAG51cj"
   },
   "source": [
    "## Задание №8. (1 балл)  Применение аугментаций к обучению"
   ]
  },
  {
   "cell_type": "markdown",
   "metadata": {
    "id": "5LjKU9CC51cj"
   },
   "source": [
    "Описание:\n",
    "* Проведите обучение на тех же 10 эпохах с применением аугментаций(Mosaic, Mixup)\n",
    "* Сравните результаты обучения с предыдущей моделью без аугментаций\n",
    "* Проанализируйте результаты обучения по сравнению с заданием №7, попробуйте интерпретировать влияние аугментаций на процесс обучения и сформируйте письменный отчёт\n",
    "\n",
    "Цель:\n",
    "* Понять влияние аугментаций на улучшение качества модели"
   ]
  },
  {
   "cell_type": "code",
   "execution_count": null,
   "metadata": {
    "id": "RJxPgkJl51cj"
   },
   "outputs": [],
   "source": [
    "augm = {\n",
    "    # Включите аугментации\n",
    "\n",
    "    \"close_mosaic\":  # <YOUR CODE HERE> #\n",
    "    \"hsv_h\":  # <YOUR CODE HERE> #\n",
    "    \"hsv_s\":  # <YOUR CODE HERE> #\n",
    "    \"hsv_v\":  # <YOUR CODE HERE> #\n",
    "    \"degrees\":  # <YOUR CODE HERE> #\n",
    "    \"fliplr\":  # <YOUR CODE HERE> #\n",
    "    \"mosaic\":  # <YOUR CODE HERE> #\n",
    "    \"mixup\":  # <YOUR CODE HERE> #\n",
    "}"
   ]
  },
  {
   "cell_type": "code",
   "execution_count": null,
   "metadata": {
    "id": "uvCV51ju51cj"
   },
   "outputs": [],
   "source": [
    "# Инициализируйте модель\n",
    "\n",
    "model =  # <YOUR CODE HERE> #"
   ]
  },
  {
   "cell_type": "code",
   "execution_count": null,
   "metadata": {
    "id": "I2UpqG_051cj"
   },
   "outputs": [],
   "source": [
    "# Обучите модель. Не забудьте передать augm\n",
    "\n",
    "results =  # <YOUR CODE HERE> #"
   ]
  },
  {
   "cell_type": "code",
   "execution_count": null,
   "metadata": {
    "id": "7-GObIzI51cj"
   },
   "outputs": [],
   "source": [
    "# Инициализируйте модель лучшим чекпоинтом (все логи и промежуточные итоги сохраняются в папке runs)\n",
    "\n",
    "model =  # <YOUR CODE HERE> #"
   ]
  },
  {
   "cell_type": "code",
   "execution_count": null,
   "metadata": {
    "id": "Ap2jAjhk51cj"
   },
   "outputs": [],
   "source": [
    "# Вычислите метрики на тестовом наборе данных\n",
    "\n",
    "metrics =  # <YOUR CODE HERE> #"
   ]
  },
  {
   "cell_type": "code",
   "execution_count": null,
   "metadata": {
    "id": "FB-cp7lz51ck"
   },
   "outputs": [],
   "source": [
    "# Визуализируйте графики обучения (можно найти в папке runs)\n",
    "\n",
    " # <YOUR CODE HERE> #"
   ]
  },
  {
   "cell_type": "markdown",
   "metadata": {
    "id": "vqh9ZArb51ck"
   },
   "source": [
    "## Задание №9. (1 балл) Тюнинг гиперпараметров"
   ]
  },
  {
   "cell_type": "markdown",
   "metadata": {
    "id": "uQuDk1nT51ck"
   },
   "source": [
    "Описание:\n",
    "* Исследуйте гиперпараметры модели YOLOv9 (learning rate, batch size, etc.)\n",
    "* Проведите несколько экспериментов с различными значениями параметров\n",
    "* Сравните результаты с заданием №7 и сформулируйте письменный вывод о том, какой набор параметров дал лучшие результаты\n",
    "\n",
    "Цель:\n",
    "* Понять влияние гиперпараметров на обучение модели и уметь их настроить"
   ]
  },
  {
   "cell_type": "code",
   "execution_count": null,
   "metadata": {
    "id": "L-MXqgoW51ck"
   },
   "outputs": [],
   "source": [
    "hyps = {\n",
    "    # Отключите аугментации\n",
    "\n",
    "    \"close_mosaic\":  # <YOUR CODE HERE> #\n",
    "    \"hsv_h\":  # <YOUR CODE HERE> #\n",
    "    \"hsv_s\":  # <YOUR CODE HERE> #\n",
    "    \"hsv_v\":  # <YOUR CODE HERE> #\n",
    "    \"degrees\":  # <YOUR CODE HERE> #\n",
    "    \"fliplr\":  # <YOUR CODE HERE> #\n",
    "    \"mosaic\":  # <YOUR CODE HERE> #\n",
    "    \"mixup\":  # <YOUR CODE HERE> #\n",
    "\n",
    "    # Настройте гиперпараметры(вы можете использовать свой список)\n",
    "\n",
    "    \"lr0\":  # <YOUR CODE HERE> #\n",
    "    \"lrf\":  # <YOUR CODE HERE> #\n",
    "    \"warmup_epochs\":  # <YOUR CODE HERE> #\n",
    "    \"momentum\":  # <YOUR CODE HERE> #\n",
    "}"
   ]
  },
  {
   "cell_type": "code",
   "execution_count": null,
   "metadata": {
    "id": "o8E5bpgc51ck"
   },
   "outputs": [],
   "source": [
    "# Инициализируйте модель\n",
    "\n",
    "model =  # <YOUR CODE HERE> #"
   ]
  },
  {
   "cell_type": "code",
   "execution_count": null,
   "metadata": {
    "id": "AGsj5aHa51ck"
   },
   "outputs": [],
   "source": [
    "# Обучите модель. Не забудьте передать hyps\n",
    "\n",
    "results =  # <YOUR CODE HERE> #"
   ]
  },
  {
   "cell_type": "code",
   "execution_count": null,
   "metadata": {
    "id": "FNt6QWCN51ck"
   },
   "outputs": [],
   "source": [
    "# Инициализируйте модель лучшим чекпоинтом (все логи и промежуточные итоги сохраняются в папке runs)\n",
    "\n",
    "model =  # <YOUR CODE HERE> #"
   ]
  },
  {
   "cell_type": "code",
   "execution_count": null,
   "metadata": {
    "id": "YnP5oqG451ck"
   },
   "outputs": [],
   "source": [
    "# Вычислите метрики на тестовом наборе данных\n",
    "\n",
    "metrics =  # <YOUR CODE HERE> #"
   ]
  },
  {
   "cell_type": "code",
   "execution_count": null,
   "metadata": {
    "id": "H36mbVBe51ck"
   },
   "outputs": [],
   "source": [
    "# Визуализируйте графики обучения (можно найти в папке runs)\n",
    "\n",
    " # <YOUR CODE HERE> #"
   ]
  },
  {
   "cell_type": "markdown",
   "metadata": {
    "id": "fl0VYo7H51ck"
   },
   "source": [
    "## Задание №10. (1.5 балла) Улучшение модели добавлением новых данных"
   ]
  },
  {
   "cell_type": "markdown",
   "metadata": {
    "id": "IJ58sIC551ck"
   },
   "source": [
    "Описание:\n",
    "* Найдите или сделайте дополнительные данные, подходящие для вашей задачи (можно использовать другой датасет с Roboflow, [например](https://universe.roboflow.com/clemson-1rt4q/experiment-2-dvkpm/dataset/1))\n",
    "* Объедините старый и новый датасеты\n",
    "* Проведите обучение модели YOLOv9 на объединенном датасете\n",
    "* Сравните метрики с предыдущими результатами и попробуйте интерпретировать влияние добавления новых данных на процесс обучения, сформировав письменный отчёт\n",
    "\n",
    "Цель:\n",
    "* Понять, как добавление новых данных может улучшить качество модели"
   ]
  },
  {
   "cell_type": "code",
   "execution_count": null,
   "metadata": {
    "id": "fYyyJv_751ck"
   },
   "outputs": [],
   "source": [
    "import shutil"
   ]
  },
  {
   "cell_type": "code",
   "execution_count": null,
   "metadata": {
    "id": "vfFpbOSv51ck"
   },
   "outputs": [],
   "source": [
    "# Выгрузите предложенный датасет в папку additional\n",
    "\n",
    "%%capture --no-display\n",
    "!curl -L  # <YOUR CODE HERE> #\n",
    "!rm additional/data.yaml ."
   ]
  },
  {
   "cell_type": "code",
   "execution_count": null,
   "metadata": {
    "id": "iMgYtauY51ck"
   },
   "outputs": [],
   "source": [
    "# Получите абсолютные пути до всех новых изображений и анноатций (в этом датасете все изображения и аннотации хранятся в папке тест)\n",
    "\n",
    "additional_images =  # <YOUR CODE HERE> #\n",
    "additional_annotations =  # <YOUR CODE HERE> #"
   ]
  },
  {
   "cell_type": "code",
   "execution_count": null,
   "metadata": {
    "id": "MuP2KWzl51ck"
   },
   "outputs": [],
   "source": [
    "# Реализуйте разделение на train и val, предлагается использовать 80% | 20%\n",
    "\n",
    "add_to_train_images =  # <YOUR CODE HERE> #\n",
    "add_to_train_annotations =  # <YOUR CODE HERE> #\n",
    "\n",
    "add_to_valid_images =  # <YOUR CODE HERE> #\n",
    "add_to_valid_annotations =  # <YOUR CODE HERE> #"
   ]
  },
  {
   "cell_type": "code",
   "execution_count": null,
   "metadata": {
    "id": "HWORwrqU51ck"
   },
   "outputs": [],
   "source": [
    "# Воспользуйтесь shutil.copy и скопируйте изображения и аннотации в нужные папки изначального датасета\n",
    "\n",
    "for train_image,train_annotation in zip(add_to_train_images, add_to_train_annotations):\n",
    "    dst_image = train_image.replace('additional', 'datasets').replace('test', 'train')\n",
    "     # <YOUR CODE HERE> #\n",
    "\n",
    "    dst_ann = train_annotation.replace('additional', 'datasets').replace('test', 'train')\n",
    "     # <YOUR CODE HERE> #\n",
    "\n",
    "for valid_image,valid_annotation in zip(add_to_valid_images, add_to_valid_annotations):\n",
    "    dst_image = valid_image.replace('additional', 'datasets').replace('test', 'valid')\n",
    "     # <YOUR CODE HERE> #\n",
    "\n",
    "    dst_ann = valid_annotation.replace('additional', 'datasets').replace('test', 'valid')\n",
    "     # <YOUR CODE HERE> #"
   ]
  },
  {
   "cell_type": "code",
   "execution_count": null,
   "metadata": {
    "id": "7oNztWOw51cl"
   },
   "outputs": [],
   "source": [
    "# Выведите обновлённое количество изображений во всех сплитах по отдельности и суммарно\n",
    "\n",
    " # <YOUR CODE HERE> #"
   ]
  },
  {
   "cell_type": "code",
   "execution_count": null,
   "metadata": {
    "id": "mcZh9Yt051cl"
   },
   "outputs": [],
   "source": [
    "augm = {\n",
    "    # Отключите аугментации\n",
    "\n",
    "    \"close_mosaic\":  # <YOUR CODE HERE> #\n",
    "    \"hsv_h\":  # <YOUR CODE HERE> #\n",
    "    \"hsv_s\":  # <YOUR CODE HERE> #\n",
    "    \"hsv_v\":  # <YOUR CODE HERE> #\n",
    "    \"degrees\":  # <YOUR CODE HERE> #\n",
    "    \"fliplr\":  # <YOUR CODE HERE> #\n",
    "    \"mosaic\":  # <YOUR CODE HERE> #\n",
    "    \"mixup\":  # <YOUR CODE HERE> #\n",
    "    \"erasing\":  # <YOUR CODE HERE> #\n",
    "}"
   ]
  },
  {
   "cell_type": "code",
   "execution_count": null,
   "metadata": {
    "id": "5rLOaGV451cl"
   },
   "outputs": [],
   "source": [
    "# Инициализируйте модель\n",
    "\n",
    "model =  # <YOUR CODE HERE> #"
   ]
  },
  {
   "cell_type": "code",
   "execution_count": null,
   "metadata": {
    "id": "n_QfDRpq51cl"
   },
   "outputs": [],
   "source": [
    "# Обучите модель. Не забудьте передать augm\n",
    "\n",
    " # <YOUR CODE HERE> #"
   ]
  },
  {
   "cell_type": "code",
   "execution_count": null,
   "metadata": {
    "id": "j8ly55Up51cl"
   },
   "outputs": [],
   "source": [
    "# Инициализируйте модель лучшим чекпоинтом (все логи и промежуточные итоги сохраняются в папке runs)\n",
    "\n",
    "model =  # <YOUR CODE HERE> #"
   ]
  },
  {
   "cell_type": "code",
   "execution_count": null,
   "metadata": {
    "id": "6WtWhNNU51cl"
   },
   "outputs": [],
   "source": [
    "# Вычислите метрики на тестовом наборе данных\n",
    "\n",
    "metrics =  # <YOUR CODE HERE> #"
   ]
  },
  {
   "cell_type": "code",
   "execution_count": null,
   "metadata": {
    "id": "yYAZWkIo51cl"
   },
   "outputs": [],
   "source": [
    "# Визуализируйте графики обучения (можно найти в папке runs)\n",
    "\n",
    " # <YOUR CODE HERE> #"
   ]
  },
  {
   "cell_type": "markdown",
   "metadata": {
    "id": "UwwSFcGI51cl"
   },
   "source": [
    "## Задание №11. (1 балл) Заключительный проект"
   ]
  },
  {
   "cell_type": "markdown",
   "metadata": {
    "id": "qQlZY-Os51cl"
   },
   "source": [
    "Описание:\n",
    "* Используя все изученные методы и техники, проведите полное обучение модели YOLOv9 на финальном наборе данных\n",
    "* Сделайте подробный анализ результатов, включая визуализацию примеров предсказаний моделей\n",
    "* Напишите отчет с описанием проделанных шагов, полученных результатов и их анализа\n",
    "\n",
    "Цель:\n",
    "* Объединить все знания и техники в один проект, демонстрируя понимание полного процесса создания и улучшения модели детекции объектов"
   ]
  },
  {
   "cell_type": "code",
   "execution_count": null,
   "metadata": {
    "id": "f_-QnFb851cl"
   },
   "outputs": [],
   "source": [
    "hyps = {\n",
    "    # Включите аугментации\n",
    "\n",
    "    \"close_mosaic\":  # <YOUR CODE HERE> #\n",
    "    \"hsv_h\":  # <YOUR CODE HERE> #\n",
    "    \"hsv_s\":  # <YOUR CODE HERE> #\n",
    "    \"hsv_v\":  # <YOUR CODE HERE> #\n",
    "    \"degrees\":  # <YOUR CODE HERE> #\n",
    "    \"fliplr\":  # <YOUR CODE HERE> #\n",
    "    \"mosaic\":  # <YOUR CODE HERE> #\n",
    "    \"mixup\":  # <YOUR CODE HERE> #\n",
    "\n",
    "    # Настройте гиперпараметры(вы можете использовать свой список)\n",
    "\n",
    "    \"lr0\":  # <YOUR CODE HERE> #\n",
    "    \"lrf\":  # <YOUR CODE HERE> #\n",
    "    \"warmup_epochs\":  # <YOUR CODE HERE> #\n",
    "    \"momentum\":  # <YOUR CODE HERE> #\n",
    "}"
   ]
  },
  {
   "cell_type": "code",
   "execution_count": null,
   "metadata": {
    "id": "vaIsry0o51cl"
   },
   "outputs": [],
   "source": [
    "# Инициализируйте модель\n",
    "\n",
    "model =  # <YOUR CODE HERE> #"
   ]
  },
  {
   "cell_type": "code",
   "execution_count": null,
   "metadata": {
    "id": "rrp1ubur51cl"
   },
   "outputs": [],
   "source": [
    "# Обучите модель. Не забудьте передать hyps\n",
    "\n",
    "results =  # <YOUR CODE HERE> #"
   ]
  },
  {
   "cell_type": "code",
   "execution_count": null,
   "metadata": {
    "id": "rP6xC0ZX51cl"
   },
   "outputs": [],
   "source": [
    "# Инициализируйте модель лучшим чекпоинтом (все логи и промежуточные итоги сохраняются в папке runs)\n",
    "\n",
    "model =  # <YOUR CODE HERE> #"
   ]
  },
  {
   "cell_type": "code",
   "execution_count": null,
   "metadata": {
    "id": "DzDaskez51cm"
   },
   "outputs": [],
   "source": [
    "# Вычислите метрики на тестовом наборе данных\n",
    "\n",
    "metrics =  # <YOUR CODE HERE> #"
   ]
  },
  {
   "cell_type": "code",
   "execution_count": null,
   "metadata": {
    "id": "kqOcHvC851cm"
   },
   "outputs": [],
   "source": [
    "# Визуализируйте графики обучения (можно найти в папке runs)\n",
    "\n",
    " # <YOUR CODE HERE> #"
   ]
  },
  {
   "cell_type": "code",
   "execution_count": null,
   "metadata": {
    "id": "cb9biFwY51cm"
   },
   "outputs": [],
   "source": [
    "# Визуализируйте разметку на примерах из тестового датасета, не забудьте про возможность настройки параметров conf и iou\n",
    "\n",
    " # <YOUR CODE HERE> #"
   ]
  },
  {
   "cell_type": "code",
   "execution_count": null,
   "metadata": {
    "id": "Ta-HiT1n51cm"
   },
   "outputs": [],
   "source": []
  }
 ],
 "metadata": {
  "colab": {
   "provenance": [],
   "toc_visible": true
  },
  "kernelspec": {
   "display_name": "Python 3 (ipykernel)",
   "language": "python",
   "name": "python3"
  },
  "language_info": {
   "codemirror_mode": {
    "name": "ipython",
    "version": 3
   },
   "file_extension": ".py",
   "mimetype": "text/x-python",
   "name": "python",
   "nbconvert_exporter": "python",
   "pygments_lexer": "ipython3",
   "version": "3.10.15"
  }
 },
 "nbformat": 4,
 "nbformat_minor": 4
}
